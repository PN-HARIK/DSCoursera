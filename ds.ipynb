{
 "cells": [
  {
   "cell_type": "code",
   "execution_count": null,
   "id": "6359ee46",
   "metadata": {
    "vscode": {
     "languageId": "plaintext"
    }
   },
   "outputs": [],
   "source": [
    "# Data Science Final Project\n"
   ]
  },
  {
   "cell_type": "code",
   "execution_count": null,
   "id": "35cbe9d6",
   "metadata": {
    "vscode": {
     "languageId": "plaintext"
    }
   },
   "outputs": [],
   "source": [
    "## Introduction\n",
    "This notebook covers various concepts and tools related to data science, including data science languages, libraries, tools, and practical code examples.\n"
   ]
  },
  {
   "cell_type": "code",
   "execution_count": null,
   "id": "2bae73b9",
   "metadata": {
    "vscode": {
     "languageId": "plaintext"
    }
   },
   "outputs": [],
   "source": [
    "## Data Science Languages\n",
    "- Python\n",
    "- R\n",
    "- SQL\n",
    "- Julia\n",
    "- Java\n"
   ]
  },
  {
   "cell_type": "code",
   "execution_count": null,
   "id": "aab371f8",
   "metadata": {
    "vscode": {
     "languageId": "plaintext"
    }
   },
   "outputs": [],
   "source": [
    "## Data Science Libraries\n",
    "- Pandas\n",
    "- NumPy\n",
    "- Matplotlib\n",
    "- Scikit-learn\n",
    "- TensorFlow\n"
   ]
  },
  {
   "cell_type": "code",
   "execution_count": null,
   "id": "0118db85",
   "metadata": {
    "vscode": {
     "languageId": "plaintext"
    }
   },
   "outputs": [],
   "source": [
    "## Data Science Tools\n",
    "| Tool        | Description                                    |\n",
    "|-------------|------------------------------------------------|\n",
    "| Jupyter     | An open-source notebook for data science work.  |\n",
    "| RStudio     | A development environment for R.               |\n",
    "| VSCode      | A code editor with support for many languages. |\n"
   ]
  },
  {
   "cell_type": "code",
   "execution_count": null,
   "id": "68b43b7e",
   "metadata": {
    "vscode": {
     "languageId": "plaintext"
    }
   },
   "outputs": [],
   "source": [
    "## Arithmetic Expression Examples\n",
    "In the following cells, we will demonstrate simple arithmetic operations in Python.\n"
   ]
  },
  {
   "cell_type": "code",
   "execution_count": null,
   "id": "33f9727d",
   "metadata": {
    "vscode": {
     "languageId": "plaintext"
    }
   },
   "outputs": [],
   "source": [
    "# Multiplying and adding numbers\n",
    "num1 = 5\n",
    "num2 = 10\n",
    "multiplication = num1 * num2\n",
    "addition = num1 + num2\n",
    "multiplication, addition\n"
   ]
  },
  {
   "cell_type": "code",
   "execution_count": null,
   "id": "17c99722",
   "metadata": {
    "vscode": {
     "languageId": "plaintext"
    }
   },
   "outputs": [],
   "source": [
    "# Converting minutes to hours\n",
    "minutes = 120\n",
    "hours = minutes / 60\n",
    "hours\n"
   ]
  },
  {
   "cell_type": "code",
   "execution_count": null,
   "id": "7b635813",
   "metadata": {
    "vscode": {
     "languageId": "plaintext"
    }
   },
   "outputs": [],
   "source": [
    "## Objectives\n",
    "- Demonstrate basic arithmetic operations in Python.\n",
    "- Convert minutes to hours.\n",
    "- Understand the common data science tools and languages.\n"
   ]
  },
  {
   "cell_type": "code",
   "execution_count": null,
   "id": "037de3c8",
   "metadata": {
    "vscode": {
     "languageId": "plaintext"
    }
   },
   "outputs": [],
   "source": [
    "\n",
    "## Author\n",
    "Name: Harikrishna PN\n"
   ]
  }
 ],
 "metadata": {
  "language_info": {
   "name": "python"
  }
 },
 "nbformat": 4,
 "nbformat_minor": 5
}
